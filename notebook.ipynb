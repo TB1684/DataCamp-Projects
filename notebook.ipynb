{
 "cells": [
  {
   "cell_type": "markdown",
   "metadata": {
    "dc": {
     "key": "3"
    },
    "deletable": false,
    "editable": false,
    "run_control": {
     "frozen": true
    },
    "tags": [
     "context"
    ]
   },
   "source": [
    "## 1. Meet Professor William Sharpe\n",
    "<p>An investment may make sense if we expect it to return more money than it costs. But returns are only part of the story because they are risky - there may be a range of possible outcomes. How does one compare different investments that may deliver similar results on average, but exhibit different levels of risks?</p>\n",
    "<p><img style=\"float: left ; margin: 5px 20px 5px 1px;\" width=\"200\" src=\"https://assets.datacamp.com/production/project_66/img/sharpe.jpeg\"></p>\n",
    "<p>Enter William Sharpe. He introduced the <a href=\"https://web.stanford.edu/~wfsharpe/art/sr/sr.htm\"><em>reward-to-variability ratio</em></a> in 1966 that soon came to be called the Sharpe Ratio. It compares the expected returns for two investment opportunities and calculates the additional return per unit of risk an investor could obtain by choosing one over the other. In particular, it looks at the difference in returns for two investments and compares the average difference to the standard deviation (as a measure of risk) of this difference. A higher Sharpe ratio means that the reward will be higher for a given amount of risk. It is common to compare a specific opportunity against a benchmark that represents an entire category of investments.</p>\n",
    "<p>The Sharpe ratio has been one of the most popular risk/return measures in finance, not least because it's so simple to use. It also helped that Professor Sharpe won a Nobel Memorial Prize in Economics in 1990 for his work on the capital asset pricing model (CAPM).</p>\n",
    "<p>The Sharpe ratio is usually calculated for a portfolio and uses the risk-free interest rate as benchmark. We will simplify our example and use stocks instead of a portfolio. We will also use a stock index as benchmark rather than the risk-free interest rate because both are readily available at daily frequencies and we do not have to get into converting interest rates from annual to daily frequency. Just keep in mind that you would run the same calculation with portfolio returns and your risk-free rate of choice, e.g, the <a href=\"https://fred.stlouisfed.org/series/TB3MS\">3-month Treasury Bill Rate</a>. </p>\n",
    "<p>So let's learn about the Sharpe ratio by calculating it for the stocks of the two tech giants Facebook and Amazon. As benchmark we'll use the S&amp;P 500 that measures the performance of the 500 largest stocks in the US. When we use a stock index instead of the risk-free rate, the result is called the Information Ratio and is used to benchmark the return on active portfolio management because it tells you how much more return for a given unit of risk your portfolio manager earned relative to just putting your money into a low-cost index fund.</p>"
   ]
  },
  {
   "cell_type": "code",
   "execution_count": 15,
   "metadata": {
    "dc": {
     "key": "3"
    },
    "tags": [
     "sample_code"
    ]
   },
   "outputs": [
    {
     "name": "stdout",
     "output_type": "stream",
     "text": [
      "                Amazon    Facebook\n",
      "Date                              \n",
      "2016-01-04  636.989990  102.220001\n",
      "2016-01-05  633.789978  102.730003\n",
      "2016-01-06  632.650024  102.970001\n",
      "2016-01-07  607.940002   97.919998\n",
      "2016-01-08  607.049988   97.330002\n",
      "2016-01-11  617.739990   97.510002\n",
      "2016-01-12  617.890015   99.370003\n",
      "2016-01-13  581.809998   95.440002\n",
      "2016-01-14  593.000000   98.370003\n",
      "2016-01-15  570.179993   94.970001\n",
      "2016-01-19  574.479980   95.260002\n",
      "2016-01-20  571.770020   94.349998\n",
      "2016-01-21  575.020020   94.160004\n",
      "2016-01-22  596.380005   97.940002\n",
      "2016-01-25  596.530029   97.010002\n",
      "2016-01-26  601.250000   97.339996\n",
      "2016-01-27  583.349976   94.449997\n",
      "2016-01-28  635.349976  109.110001\n",
      "2016-01-29  587.000000  112.209999\n",
      "2016-02-01  574.809998  115.089996\n",
      "2016-02-02  552.099976  114.610001\n",
      "2016-02-03  531.070007  112.690002\n",
      "2016-02-04  536.260010  110.489998\n",
      "2016-02-05  502.130005  104.070000\n",
      "2016-02-08  488.100006   99.750000\n",
      "2016-02-09  482.070007   99.540001\n",
      "2016-02-10  490.480011  101.000000\n",
      "2016-02-11  503.820007  101.910004\n",
      "2016-02-12  507.079987  102.010002\n",
      "2016-02-16  521.099976  101.610001\n",
      "...                ...         ...\n",
      "2016-11-17  756.400024  117.790001\n",
      "2016-11-18  760.159973  117.019997\n",
      "2016-11-21  780.000000  121.769997\n",
      "2016-11-22  785.330017  121.470001\n",
      "2016-11-23  780.119995  120.839996\n",
      "2016-11-25  780.369995  120.379997\n",
      "2016-11-28  766.770020  120.410004\n",
      "2016-11-29  762.520020  120.870003\n",
      "2016-11-30  750.570007  118.419998\n",
      "2016-12-01  743.650024  115.099998\n",
      "2016-12-02  740.340027  115.400002\n",
      "2016-12-05  759.359985  117.430000\n",
      "2016-12-06  764.719971  117.309998\n",
      "2016-12-07  770.419983  117.949997\n",
      "2016-12-08  767.330017  118.910004\n",
      "2016-12-09  768.659973  119.680000\n",
      "2016-12-12  760.119995  117.769997\n",
      "2016-12-13  774.340027  120.309998\n",
      "2016-12-14  768.820007  120.209999\n",
      "2016-12-15  761.000000  120.570000\n",
      "2016-12-16  757.770020  119.870003\n",
      "2016-12-19  766.000000  119.239998\n",
      "2016-12-20  771.219971  119.089996\n",
      "2016-12-21  770.599976  119.040001\n",
      "2016-12-22  766.340027  117.400002\n",
      "2016-12-23  760.590027  117.269997\n",
      "2016-12-27  771.400024  118.010002\n",
      "2016-12-28  772.130005  116.919998\n",
      "2016-12-29  765.150024  116.349998\n",
      "2016-12-30  749.869995  115.050003\n",
      "\n",
      "[252 rows x 2 columns]\n",
      "            S&P 500\n",
      "Date               \n",
      "2016-01-04  2012.66\n",
      "2016-01-05  2016.71\n",
      "2016-01-06  1990.26\n",
      "2016-01-07  1943.09\n",
      "2016-01-08  1922.03\n",
      "2016-01-11  1923.67\n",
      "2016-01-12  1938.68\n",
      "2016-01-13  1890.28\n",
      "2016-01-14  1921.84\n",
      "2016-01-15  1880.33\n",
      "2016-01-19  1881.33\n",
      "2016-01-20  1859.33\n",
      "2016-01-21  1868.99\n",
      "2016-01-22  1906.90\n",
      "2016-01-25  1877.08\n",
      "2016-01-26  1903.63\n",
      "2016-01-27  1882.95\n",
      "2016-01-28  1893.36\n",
      "2016-01-29  1940.24\n",
      "2016-02-01  1939.38\n",
      "2016-02-02  1903.03\n",
      "2016-02-03  1912.53\n",
      "2016-02-04  1915.45\n",
      "2016-02-05  1880.05\n",
      "2016-02-08  1853.44\n",
      "2016-02-09  1852.21\n",
      "2016-02-10  1851.86\n",
      "2016-02-11  1829.08\n",
      "2016-02-12  1864.78\n",
      "2016-02-16  1895.58\n",
      "...             ...\n",
      "2016-11-17  2187.12\n",
      "2016-11-18  2181.90\n",
      "2016-11-21  2198.18\n",
      "2016-11-22  2202.94\n",
      "2016-11-23  2204.72\n",
      "2016-11-25  2213.35\n",
      "2016-11-28  2201.72\n",
      "2016-11-29  2204.66\n",
      "2016-11-30  2198.81\n",
      "2016-12-01  2191.08\n",
      "2016-12-02  2191.95\n",
      "2016-12-05  2204.71\n",
      "2016-12-06  2212.23\n",
      "2016-12-07  2241.35\n",
      "2016-12-08  2246.19\n",
      "2016-12-09  2259.53\n",
      "2016-12-12  2256.96\n",
      "2016-12-13  2271.72\n",
      "2016-12-14  2253.28\n",
      "2016-12-15  2262.03\n",
      "2016-12-16  2258.07\n",
      "2016-12-19  2262.53\n",
      "2016-12-20  2270.76\n",
      "2016-12-21  2265.18\n",
      "2016-12-22  2260.96\n",
      "2016-12-23  2263.79\n",
      "2016-12-27  2268.88\n",
      "2016-12-28  2249.92\n",
      "2016-12-29  2249.26\n",
      "2016-12-30  2238.83\n",
      "\n",
      "[252 rows x 1 columns]\n"
     ]
    }
   ],
   "source": [
    "# Importing required modules\n",
    "import pandas as pd\n",
    "import numpy as np\n",
    "import matplotlib.pyplot as plt\n",
    "\n",
    "# Settings to produce nice plots in a Jupyter notebook\n",
    "plt.style.use('fivethirtyeight')\n",
    "%matplotlib inline\n",
    "\n",
    "# Reading in the data\n",
    "stock_data = pd.read_csv('datasets/stock_data.csv',index_col=['Date'], parse_dates=['Date'])\n",
    "print(stock_data.dropna())\n",
    "benchmark_data = pd.read_csv('datasets/benchmark_data.csv', index_col=['Date'],parse_dates=['Date']) \n",
    "print(benchmark_data.dropna())\n"
   ]
  },
  {
   "cell_type": "code",
   "execution_count": null,
   "metadata": {
    "collapsed": true,
    "dc": {
     "key": "11"
    },
    "jupyter": {
     "outputs_hidden": true
    }
   },
   "outputs": [],
   "source": []
  },
  {
   "cell_type": "markdown",
   "metadata": {
    "dc": {
     "key": "11"
    },
    "deletable": false,
    "editable": false,
    "run_control": {
     "frozen": true
    },
    "tags": [
     "context"
    ]
   },
   "source": [
    "## 2. A first glance at the data\n",
    "<p>Let's take a look the data to find out how many observations and variables we have at our disposal.</p>"
   ]
  },
  {
   "cell_type": "code",
   "execution_count": 17,
   "metadata": {
    "dc": {
     "key": "11"
    },
    "tags": [
     "sample_code"
    ]
   },
   "outputs": [
    {
     "name": "stdout",
     "output_type": "stream",
     "text": [
      "Stocks\n",
      "\n",
      "<class 'pandas.core.frame.DataFrame'>\n",
      "DatetimeIndex: 252 entries, 2016-01-04 to 2016-12-30\n",
      "Data columns (total 2 columns):\n",
      "Amazon      252 non-null float64\n",
      "Facebook    252 non-null float64\n",
      "dtypes: float64(2)\n",
      "memory usage: 5.9 KB\n",
      "                Amazon    Facebook\n",
      "Date                              \n",
      "2016-01-04  636.989990  102.220001\n",
      "2016-01-05  633.789978  102.730003\n",
      "2016-01-06  632.650024  102.970001\n",
      "2016-01-07  607.940002   97.919998\n",
      "2016-01-08  607.049988   97.330002\n",
      "\n",
      "Benchmarks\n",
      "\n",
      "<class 'pandas.core.frame.DataFrame'>\n",
      "DatetimeIndex: 261 entries, 2016-01-01 to 2016-12-30\n",
      "Data columns (total 1 columns):\n",
      "S&P 500    252 non-null float64\n",
      "dtypes: float64(1)\n",
      "memory usage: 4.1 KB\n",
      "            S&P 500\n",
      "Date               \n",
      "2016-01-01      NaN\n",
      "2016-01-04  2012.66\n",
      "2016-01-05  2016.71\n",
      "2016-01-06  1990.26\n",
      "2016-01-07  1943.09\n"
     ]
    }
   ],
   "source": [
    "# Display summary for stock_data\n",
    "print('Stocks\\n')\n",
    "stock_data.info()\n",
    "print(stock_data.head())\n",
    "\n",
    "\n",
    "# Display summary for benchmark_data\n",
    "print('\\nBenchmarks\\n')\n",
    "benchmark_data.info()\n",
    "print(benchmark_data.head())\n"
   ]
  },
  {
   "cell_type": "markdown",
   "metadata": {
    "dc": {
     "key": "18"
    },
    "deletable": false,
    "editable": false,
    "run_control": {
     "frozen": true
    },
    "tags": [
     "context"
    ]
   },
   "source": [
    "## 3. Plot & summarize daily prices for Amazon and Facebook\n",
    "<p>Before we compare an investment in either Facebook or Amazon with the index of the 500 largest companies in the US, let's visualize the data, so we better understand what we're dealing with.</p>"
   ]
  },
  {
   "cell_type": "code",
   "execution_count": 19,
   "metadata": {
    "dc": {
     "key": "18"
    },
    "tags": [
     "sample_code"
    ]
   },
   "outputs": [
    {
     "data": {
      "image/png": "[encoded data removed]",
      "text/plain": [
       "<Figure size 432x288 with 2 Axes>"
      ]
     },
     "metadata": {
      "needs_background": "light"
     },
     "output_type": "display_data"
    },
    {
     "data": {
      "text/html": [
       "<div>\n",
       "<style scoped>\n",
       "    .dataframe tbody tr th:only-of-type {\n",
       "        vertical-align: middle;\n",
       "    }\n",
       "\n",
       "    .dataframe tbody tr th {\n",
       "        vertical-align: top;\n",
       "    }\n",
       "\n",
       "    .dataframe thead th {\n",
       "        text-align: right;\n",
       "    }\n",
       "</style>\n",
       "<table border=\"1\" class=\"dataframe\">\n",
       "  <thead>\n",
       "    <tr style=\"text-align: right;\">\n",
       "      <th></th>\n",
       "      <th>Amazon</th>\n",
       "      <th>Facebook</th>\n",
       "    </tr>\n",
       "  </thead>\n",
       "  <tbody>\n",
       "    <tr>\n",
       "      <th>count</th>\n",
       "      <td>252.000000</td>\n",
       "      <td>252.000000</td>\n",
       "    </tr>\n",
       "    <tr>\n",
       "      <th>mean</th>\n",
       "      <td>699.523135</td>\n",
       "      <td>117.035873</td>\n",
       "    </tr>\n",
       "    <tr>\n",
       "      <th>std</th>\n",
       "      <td>92.362312</td>\n",
       "      <td>8.899858</td>\n",
       "    </tr>\n",
       "    <tr>\n",
       "      <th>min</th>\n",
       "      <td>482.070007</td>\n",
       "      <td>94.160004</td>\n",
       "    </tr>\n",
       "    <tr>\n",
       "      <th>25%</th>\n",
       "      <td>606.929993</td>\n",
       "      <td>112.202499</td>\n",
       "    </tr>\n",
       "    <tr>\n",
       "      <th>50%</th>\n",
       "      <td>727.875000</td>\n",
       "      <td>117.765000</td>\n",
       "    </tr>\n",
       "    <tr>\n",
       "      <th>75%</th>\n",
       "      <td>767.882492</td>\n",
       "      <td>123.902503</td>\n",
       "    </tr>\n",
       "    <tr>\n",
       "      <th>max</th>\n",
       "      <td>844.359985</td>\n",
       "      <td>133.279999</td>\n",
       "    </tr>\n",
       "  </tbody>\n",
       "</table>\n",
       "</div>"
      ],
      "text/plain": [
       "           Amazon    Facebook\n",
       "count  252.000000  252.000000\n",
       "mean   699.523135  117.035873\n",
       "std     92.362312    8.899858\n",
       "min    482.070007   94.160004\n",
       "25%    606.929993  112.202499\n",
       "50%    727.875000  117.765000\n",
       "75%    767.882492  123.902503\n",
       "max    844.359985  133.279999"
      ]
     },
     "execution_count": 19,
     "metadata": {},
     "output_type": "execute_result"
    }
   ],
   "source": [
    "# visualize the stock_data\n",
    "import matplotlib.pyplot as plt\n",
    "stock_data.plot(subplots=True, title ='Stock Data')\n",
    "plt.show()\n",
    "\n",
    "# summarize the stock_data\n",
    "stock_data.describe()\n",
    "\n"
   ]
  },
  {
   "cell_type": "markdown",
   "metadata": {
    "dc": {
     "key": "25"
    },
    "deletable": false,
    "editable": false,
    "run_control": {
     "frozen": true
    },
    "tags": [
     "context"
    ]
   },
   "source": [
    "## 4. Visualize & summarize daily values for the S&P 500\n",
    "<p>Let's also take a closer look at the value of the S&amp;P 500, our benchmark.</p>"
   ]
  },
  {
   "cell_type": "code",
   "execution_count": 21,
   "metadata": {
    "dc": {
     "key": "25"
    },
    "tags": [
     "sample_code"
    ]
   },
   "outputs": [
    {
     "data": {
      "image/png": "[encoded data removed]",
      "text/plain": [
       "<Figure size 432x288 with 1 Axes>"
      ]
     },
     "metadata": {
      "needs_background": "light"
     },
     "output_type": "display_data"
    },
    {
     "data": {
      "text/html": [
       "<div>\n",
       "<style scoped>\n",
       "    .dataframe tbody tr th:only-of-type {\n",
       "        vertical-align: middle;\n",
       "    }\n",
       "\n",
       "    .dataframe tbody tr th {\n",
       "        vertical-align: top;\n",
       "    }\n",
       "\n",
       "    .dataframe thead th {\n",
       "        text-align: right;\n",
       "    }\n",
       "</style>\n",
       "<table border=\"1\" class=\"dataframe\">\n",
       "  <thead>\n",
       "    <tr style=\"text-align: right;\">\n",
       "      <th></th>\n",
       "      <th>S&amp;P 500</th>\n",
       "    </tr>\n",
       "  </thead>\n",
       "  <tbody>\n",
       "    <tr>\n",
       "      <th>count</th>\n",
       "      <td>252.000000</td>\n",
       "    </tr>\n",
       "    <tr>\n",
       "      <th>mean</th>\n",
       "      <td>2094.651310</td>\n",
       "    </tr>\n",
       "    <tr>\n",
       "      <th>std</th>\n",
       "      <td>101.427615</td>\n",
       "    </tr>\n",
       "    <tr>\n",
       "      <th>min</th>\n",
       "      <td>1829.080000</td>\n",
       "    </tr>\n",
       "    <tr>\n",
       "      <th>25%</th>\n",
       "      <td>2047.060000</td>\n",
       "    </tr>\n",
       "    <tr>\n",
       "      <th>50%</th>\n",
       "      <td>2104.105000</td>\n",
       "    </tr>\n",
       "    <tr>\n",
       "      <th>75%</th>\n",
       "      <td>2169.075000</td>\n",
       "    </tr>\n",
       "    <tr>\n",
       "      <th>max</th>\n",
       "      <td>2271.720000</td>\n",
       "    </tr>\n",
       "  </tbody>\n",
       "</table>\n",
       "</div>"
      ],
      "text/plain": [
       "           S&P 500\n",
       "count   252.000000\n",
       "mean   2094.651310\n",
       "std     101.427615\n",
       "min    1829.080000\n",
       "25%    2047.060000\n",
       "50%    2104.105000\n",
       "75%    2169.075000\n",
       "max    2271.720000"
      ]
     },
     "execution_count": 21,
     "metadata": {},
     "output_type": "execute_result"
    }
   ],
   "source": [
    "# plot the benchmark_data\n",
    "benchmark_data.plot(title='S&P 500')\n",
    "plt.show()\n",
    "\n",
    "\n",
    "# summarize the benchmark_data\n",
    "benchmark_data.describe()\n",
    "\n"
   ]
  },
  {
   "cell_type": "markdown",
   "metadata": {
    "dc": {
     "key": "32"
    },
    "deletable": false,
    "editable": false,
    "run_control": {
     "frozen": true
    },
    "tags": [
     "context"
    ]
   },
   "source": [
    "## 5. The inputs for the Sharpe Ratio: Starting with Daily Stock Returns\n",
    "<p>The Sharpe Ratio uses the difference in returns between the two investment opportunities under consideration.</p>\n",
    "<p>However, our data show the historical value of each investment, not the return. To calculate the return, we need to calculate the percentage change in value from one day to the next. We'll also take a look at the summary statistics because these will become our inputs as we calculate the Sharpe Ratio. Can you already guess the result?</p>"
   ]
  },
  {
   "cell_type": "code",
   "execution_count": 23,
   "metadata": {
    "dc": {
     "key": "32"
    },
    "tags": [
     "sample_code"
    ]
   },
   "outputs": [
    {
     "data": {
      "image/png": "[encoded data removed]",
      "text/plain": [
       "<Figure size 432x288 with 1 Axes>"
      ]
     },
     "metadata": {
      "needs_background": "light"
     },
     "output_type": "display_data"
    },
    {
     "data": {
      "text/html": [
       "<div>\n",
       "<style scoped>\n",
       "    .dataframe tbody tr th:only-of-type {\n",
       "        vertical-align: middle;\n",
       "    }\n",
       "\n",
       "    .dataframe tbody tr th {\n",
       "        vertical-align: top;\n",
       "    }\n",
       "\n",
       "    .dataframe thead th {\n",
       "        text-align: right;\n",
       "    }\n",
       "</style>\n",
       "<table border=\"1\" class=\"dataframe\">\n",
       "  <thead>\n",
       "    <tr style=\"text-align: right;\">\n",
       "      <th></th>\n",
       "      <th>Amazon</th>\n",
       "      <th>Facebook</th>\n",
       "    </tr>\n",
       "  </thead>\n",
       "  <tbody>\n",
       "    <tr>\n",
       "      <th>count</th>\n",
       "      <td>251.000000</td>\n",
       "      <td>251.000000</td>\n",
       "    </tr>\n",
       "    <tr>\n",
       "      <th>mean</th>\n",
       "      <td>0.000818</td>\n",
       "      <td>0.000626</td>\n",
       "    </tr>\n",
       "    <tr>\n",
       "      <th>std</th>\n",
       "      <td>0.018383</td>\n",
       "      <td>0.017840</td>\n",
       "    </tr>\n",
       "    <tr>\n",
       "      <th>min</th>\n",
       "      <td>-0.076100</td>\n",
       "      <td>-0.058105</td>\n",
       "    </tr>\n",
       "    <tr>\n",
       "      <th>25%</th>\n",
       "      <td>-0.007211</td>\n",
       "      <td>-0.007220</td>\n",
       "    </tr>\n",
       "    <tr>\n",
       "      <th>50%</th>\n",
       "      <td>0.000857</td>\n",
       "      <td>0.000879</td>\n",
       "    </tr>\n",
       "    <tr>\n",
       "      <th>75%</th>\n",
       "      <td>0.009224</td>\n",
       "      <td>0.008108</td>\n",
       "    </tr>\n",
       "    <tr>\n",
       "      <th>max</th>\n",
       "      <td>0.095664</td>\n",
       "      <td>0.155214</td>\n",
       "    </tr>\n",
       "  </tbody>\n",
       "</table>\n",
       "</div>"
      ],
      "text/plain": [
       "           Amazon    Facebook\n",
       "count  251.000000  251.000000\n",
       "mean     0.000818    0.000626\n",
       "std      0.018383    0.017840\n",
       "min     -0.076100   -0.058105\n",
       "25%     -0.007211   -0.007220\n",
       "50%      0.000857    0.000879\n",
       "75%      0.009224    0.008108\n",
       "max      0.095664    0.155214"
      ]
     },
     "execution_count": 23,
     "metadata": {},
     "output_type": "execute_result"
    }
   ],
   "source": [
    "# calculate daily stock_data returns\n",
    "stock_returns = stock_data.pct_change()\n",
    "\n",
    "# plot the daily returns\n",
    "stock_returns.plot()\n",
    "plt.show()\n",
    "\n",
    "# summarize the daily returns\n",
    "stock_returns.describe()\n",
    "\n"
   ]
  },
  {
   "cell_type": "markdown",
   "metadata": {
    "dc": {
     "key": "39"
    },
    "deletable": false,
    "editable": false,
    "run_control": {
     "frozen": true
    },
    "tags": [
     "context"
    ]
   },
   "source": [
    "## 6. Daily S&P 500 returns\n",
    "<p>For the S&amp;P 500, calculating daily returns works just the same way, we just need to make sure we select it as a <code>Series</code> using single brackets <code>[]</code> and not as a <code>DataFrame</code> to facilitate the calculations in the next step.</p>"
   ]
  },
  {
   "cell_type": "code",
   "execution_count": 25,
   "metadata": {
    "dc": {
     "key": "39"
    },
    "tags": [
     "sample_code"
    ]
   },
   "outputs": [
    {
     "data": {
      "image/png": "[encoded data removed]",
      "text/plain": [
       "<Figure size 432x288 with 1 Axes>"
      ]
     },
     "metadata": {
      "needs_background": "light"
     },
     "output_type": "display_data"
    },
    {
     "data": {
      "text/plain": [
       "count    251.000000\n",
       "mean       0.000458\n",
       "std        0.008205\n",
       "min       -0.035920\n",
       "25%       -0.002949\n",
       "50%        0.000205\n",
       "75%        0.004497\n",
       "max        0.024760\n",
       "Name: S&P 500, dtype: float64"
      ]
     },
     "execution_count": 25,
     "metadata": {},
     "output_type": "execute_result"
    }
   ],
   "source": [
    "# calculate daily benchmark_data returns\n",
    "# ... YOUR CODE FOR TASK 6 HERE ...\n",
    "sp_returns = benchmark_data['S&P 500'].pct_change()\n",
    "\n",
    "# plot the daily returns\n",
    "sp_returns.plot()\n",
    "plt.show()\n",
    "\n",
    "\n",
    "# summarize the daily returns\n",
    "sp_returns.describe()\n",
    "\n"
   ]
  },
  {
   "cell_type": "markdown",
   "metadata": {
    "dc": {
     "key": "46"
    },
    "deletable": false,
    "editable": false,
    "run_control": {
     "frozen": true
    },
    "tags": [
     "context"
    ]
   },
   "source": [
    "## 7. Calculating Excess Returns for Amazon and Facebook vs. S&P 500\n",
    "<p>Next, we need to calculate the relative performance of stocks vs. the S&amp;P 500 benchmark. This is calculated as the difference in returns between <code>stock_returns</code> and <code>sp_returns</code> for each day.</p>"
   ]
  },
  {
   "cell_type": "code",
   "execution_count": 27,
   "metadata": {
    "dc": {
     "key": "46"
    },
    "tags": [
     "sample_code"
    ]
   },
   "outputs": [
    {
     "name": "stdout",
     "output_type": "stream",
     "text": [
      "              Amazon  Facebook\n",
      "Date                          \n",
      "2016-01-01       NaN       NaN\n",
      "2016-01-04       NaN       NaN\n",
      "2016-01-05 -0.007036  0.002977\n",
      "2016-01-06  0.011317  0.015452\n",
      "2016-01-07 -0.015358 -0.025343\n",
      "2016-01-08  0.009374  0.004813\n",
      "2016-01-11  0.016756  0.000996\n",
      "2016-01-12 -0.007560  0.011272\n",
      "2016-01-13 -0.033427 -0.014584\n",
      "2016-01-14  0.002537  0.014004\n",
      "2016-01-15 -0.016883 -0.012964\n",
      "2016-01-18       NaN       NaN\n",
      "2016-01-19  0.007010  0.002522\n",
      "2016-01-20  0.006977  0.002141\n",
      "2016-01-21  0.000489 -0.007209\n",
      "2016-01-22  0.016863  0.019861\n",
      "2016-01-25  0.015890  0.006142\n",
      "2016-01-26 -0.006232 -0.010743\n",
      "2016-01-27 -0.018908 -0.018826\n",
      "2016-01-28  0.083612  0.149686\n",
      "2016-01-29 -0.100860  0.003651\n",
      "2016-02-01 -0.020323  0.026109\n",
      "2016-02-02 -0.020766  0.014572\n",
      "2016-02-03 -0.043083 -0.021744\n",
      "2016-02-04  0.008246 -0.021049\n",
      "2016-02-05 -0.045163 -0.039623\n",
      "2016-02-08 -0.013787 -0.027357\n",
      "2016-02-09 -0.011690 -0.001442\n",
      "2016-02-10  0.017635  0.014856\n",
      "2016-02-11  0.039499  0.021311\n",
      "...              ...       ...\n",
      "2016-11-21  0.018638  0.033130\n",
      "2016-11-22  0.004668 -0.004629\n",
      "2016-11-23 -0.007442 -0.005995\n",
      "2016-11-24       NaN       NaN\n",
      "2016-11-25 -0.003594 -0.007721\n",
      "2016-11-28 -0.012173  0.005504\n",
      "2016-11-29 -0.006878  0.002485\n",
      "2016-11-30 -0.013018 -0.017616\n",
      "2016-12-01 -0.005704 -0.024520\n",
      "2016-12-02 -0.004848  0.002209\n",
      "2016-12-05  0.019870  0.011770\n",
      "2016-12-06  0.003648 -0.004433\n",
      "2016-12-07 -0.005709 -0.007708\n",
      "2016-12-08 -0.006170  0.005980\n",
      "2016-12-09 -0.004206  0.000537\n",
      "2016-12-12 -0.009973 -0.014822\n",
      "2016-12-13  0.012168  0.015028\n",
      "2016-12-14  0.000989  0.007286\n",
      "2016-12-15 -0.014055 -0.000888\n",
      "2016-12-16 -0.002494 -0.004055\n",
      "2016-12-19  0.008886 -0.007231\n",
      "2016-12-20  0.003177 -0.004896\n",
      "2016-12-21  0.001653  0.002038\n",
      "2016-12-22 -0.003665 -0.011914\n",
      "2016-12-23 -0.008755 -0.002359\n",
      "2016-12-26       NaN       NaN\n",
      "2016-12-27  0.011964  0.004062\n",
      "2016-12-28  0.009303 -0.000880\n",
      "2016-12-29 -0.008747 -0.004582\n",
      "2016-12-30 -0.015333 -0.006536\n",
      "\n",
      "[261 rows x 2 columns]\n"
     ]
    },
    {
     "data": {
      "image/png": "[encoded data removed]",
      "text/plain": [
       "<Figure size 432x288 with 1 Axes>"
      ]
     },
     "metadata": {
      "needs_background": "light"
     },
     "output_type": "display_data"
    },
    {
     "data": {
      "text/html": [
       "<div>\n",
       "<style scoped>\n",
       "    .dataframe tbody tr th:only-of-type {\n",
       "        vertical-align: middle;\n",
       "    }\n",
       "\n",
       "    .dataframe tbody tr th {\n",
       "        vertical-align: top;\n",
       "    }\n",
       "\n",
       "    .dataframe thead th {\n",
       "        text-align: right;\n",
       "    }\n",
       "</style>\n",
       "<table border=\"1\" class=\"dataframe\">\n",
       "  <thead>\n",
       "    <tr style=\"text-align: right;\">\n",
       "      <th></th>\n",
       "      <th>Amazon</th>\n",
       "      <th>Facebook</th>\n",
       "    </tr>\n",
       "  </thead>\n",
       "  <tbody>\n",
       "    <tr>\n",
       "      <th>count</th>\n",
       "      <td>251.000000</td>\n",
       "      <td>251.000000</td>\n",
       "    </tr>\n",
       "    <tr>\n",
       "      <th>mean</th>\n",
       "      <td>0.000360</td>\n",
       "      <td>0.000168</td>\n",
       "    </tr>\n",
       "    <tr>\n",
       "      <th>std</th>\n",
       "      <td>0.016126</td>\n",
       "      <td>0.015439</td>\n",
       "    </tr>\n",
       "    <tr>\n",
       "      <th>min</th>\n",
       "      <td>-0.100860</td>\n",
       "      <td>-0.051958</td>\n",
       "    </tr>\n",
       "    <tr>\n",
       "      <th>25%</th>\n",
       "      <td>-0.006229</td>\n",
       "      <td>-0.005663</td>\n",
       "    </tr>\n",
       "    <tr>\n",
       "      <th>50%</th>\n",
       "      <td>0.000698</td>\n",
       "      <td>-0.000454</td>\n",
       "    </tr>\n",
       "    <tr>\n",
       "      <th>75%</th>\n",
       "      <td>0.007351</td>\n",
       "      <td>0.005814</td>\n",
       "    </tr>\n",
       "    <tr>\n",
       "      <th>max</th>\n",
       "      <td>0.100728</td>\n",
       "      <td>0.149686</td>\n",
       "    </tr>\n",
       "  </tbody>\n",
       "</table>\n",
       "</div>"
      ],
      "text/plain": [
       "           Amazon    Facebook\n",
       "count  251.000000  251.000000\n",
       "mean     0.000360    0.000168\n",
       "std      0.016126    0.015439\n",
       "min     -0.100860   -0.051958\n",
       "25%     -0.006229   -0.005663\n",
       "50%      0.000698   -0.000454\n",
       "75%      0.007351    0.005814\n",
       "max      0.100728    0.149686"
      ]
     },
     "execution_count": 27,
     "metadata": {},
     "output_type": "execute_result"
    }
   ],
   "source": [
    "# calculate the difference in daily returns\n",
    "excess_returns = stock_returns.sub(sp_returns, axis=0)\n",
    "print(excess_returns)\n",
    "\n",
    "# plot the excess_returns\n",
    "excess_returns.plot()\n",
    "plt.show()\n",
    "\n",
    "# summarize the excess_returns\n",
    "excess_returns.describe()\n"
   ]
  },
  {
   "cell_type": "markdown",
   "metadata": {
    "dc": {
     "key": "53"
    },
    "deletable": false,
    "editable": false,
    "run_control": {
     "frozen": true
    },
    "tags": [
     "context"
    ]
   },
   "source": [
    "## 8. The Sharpe Ratio, Step 1: The Average Difference in Daily Returns Stocks vs S&P 500\n",
    "<p>Now we can finally start computing the Sharpe Ratio. First we need to calculate the average of the <code>excess_returns</code>. This tells us how much more or less the investment yields per day compared to the benchmark.</p>"
   ]
  },
  {
   "cell_type": "code",
   "execution_count": 29,
   "metadata": {
    "dc": {
     "key": "53"
    },
    "tags": [
     "sample_code"
    ]
   },
   "outputs": [
    {
     "data": {
      "image/png": "[encoded data removed]",
      "text/plain": [
       "<Figure size 432x288 with 1 Axes>"
      ]
     },
     "metadata": {
      "needs_background": "light"
     },
     "output_type": "display_data"
    }
   ],
   "source": [
    "# calculate the mean of excess_returns \n",
    "\n",
    "avg_excess_return = excess_returns.mean()\n",
    "\n",
    "# plot avg_excess_returns\n",
    "avg_excess_return.plot.bar(title = 'Mean of the Return Difference')\n",
    "plt.show()\n"
   ]
  },
  {
   "cell_type": "markdown",
   "metadata": {
    "dc": {
     "key": "60"
    },
    "deletable": false,
    "editable": false,
    "run_control": {
     "frozen": true
    },
    "tags": [
     "context"
    ]
   },
   "source": [
    "## 9. The Sharpe Ratio, Step 2: Standard Deviation of the Return Difference\n",
    "<p>It looks like there was quite a bit of a difference between average daily returns for Amazon and Facebook.</p>\n",
    "<p>Next, we calculate the standard deviation of the <code>excess_returns</code>. This shows us the amount of risk an investment in the stocks implies as compared to an investment in the S&amp;P 500.</p>"
   ]
  },
  {
   "cell_type": "code",
   "execution_count": 31,
   "metadata": {
    "dc": {
     "key": "60"
    },
    "tags": [
     "sample_code"
    ]
   },
   "outputs": [
    {
     "data": {
      "image/png": "[encoded data removed]",
      "text/plain": [
       "<Figure size 432x288 with 1 Axes>"
      ]
     },
     "metadata": {
      "needs_background": "light"
     },
     "output_type": "display_data"
    }
   ],
   "source": [
    "# calculate the standard deviations\n",
    "sd_excess_return = excess_returns.std()\n",
    "\n",
    "# plot the standard deviations\n",
    "sd_excess_return.plot.bar(title='Standard Deviation of the Return Difference')\n",
    "plt.show()\n"
   ]
  },
  {
   "cell_type": "markdown",
   "metadata": {
    "dc": {
     "key": "67"
    },
    "deletable": false,
    "editable": false,
    "run_control": {
     "frozen": true
    },
    "tags": [
     "context"
    ]
   },
   "source": [
    "## 10. Putting it all together\n",
    "<p>Now we just need to compute the ratio of <code>avg_excess_returns</code> and <code>sd_excess_returns</code>. The result is now finally the <em>Sharpe ratio</em> and indicates how much more (or less) return the investment opportunity under consideration yields per unit of risk.</p>\n",
    "<p>The Sharpe Ratio is often <em>annualized</em> by multiplying it by the square root of the number of periods. We have used daily data as input, so we'll use the square root of the number of trading days (5 days, 52 weeks, minus a few holidays): √252</p>"
   ]
  },
  {
   "cell_type": "code",
   "execution_count": 33,
   "metadata": {
    "dc": {
     "key": "67"
    },
    "tags": [
     "sample_code"
    ]
   },
   "outputs": [
    {
     "data": {
      "image/png": "[encoded data removed]",
      "text/plain": [
       "<Figure size 432x288 with 1 Axes>"
      ]
     },
     "metadata": {
      "needs_background": "light"
     },
     "output_type": "display_data"
    }
   ],
   "source": [
    "# calculate the daily sharpe ratio\n",
    "daily_sharpe_ratio = avg_excess_return.div(sd_excess_return)\n",
    "\n",
    "# annualize the sharpe ratio\n",
    "annual_factor = np.sqrt(252)\n",
    "annual_sharpe_ratio = daily_sharpe_ratio.mul(annual_factor)\n",
    "\n",
    "# plot the annualized sharpe ratio\n",
    "annual_sharpe_ratio.plot.bar(title = 'Annualized Sharpe Ratio: Stocks vs S&P 500')\n",
    "plt.show()"
   ]
  },
  {
   "cell_type": "markdown",
   "metadata": {
    "dc": {
     "key": "74"
    },
    "deletable": false,
    "editable": false,
    "run_control": {
     "frozen": true
    },
    "tags": [
     "context"
    ]
   },
   "source": [
    "## 11. Conclusion\n",
    "<p>Given the two Sharpe ratios, which investment should we go for? In 2016, Amazon had a Sharpe ratio twice as high as Facebook. This means that an investment in Amazon returned twice as much compared to the S&amp;P 500 for each unit of risk an investor would have assumed. In other words, in risk-adjusted terms, the investment in Amazon would have been more attractive.</p>\n",
    "<p>This difference was mostly driven by differences in return rather than risk between Amazon and Facebook. The risk of choosing Amazon over FB (as measured by the standard deviation) was only slightly higher so that the higher Sharpe ratio for Amazon ends up higher mainly due to the higher average daily returns for Amazon. </p>\n",
    "<p>When faced with investment alternatives that offer both different returns and risks, the Sharpe Ratio helps to make a decision by adjusting the returns by the differences in risk and allows an investor to compare investment opportunities on equal terms, that is, on an 'apples-to-apples' basis.</p>"
   ]
  },
  {
   "cell_type": "code",
   "execution_count": 35,
   "metadata": {
    "collapsed": true,
    "dc": {
     "key": "74"
    },
    "jupyter": {
     "outputs_hidden": true
    },
    "tags": [
     "sample_code"
    ]
   },
   "outputs": [],
   "source": [
    "# Uncomment your choice.\n",
    "buy_amazon = True\n",
    "# buy_facebook = True"
   ]
  }
 ],
 "metadata": {
  "kernelspec": {
   "display_name": "Python 3 (ipykernel)",
   "language": "python",
   "name": "python3"
  },
  "language_info": {
   "codemirror_mode": {
    "name": "ipython",
    "version": 3
   },
   "file_extension": ".py",
   "mimetype": "text/x-python",
   "name": "python",
   "nbconvert_exporter": "python",
   "pygments_lexer": "ipython3",
   "version": "3.8.10"
  }
 },
 "nbformat": 4,
 "nbformat_minor": 4
}
